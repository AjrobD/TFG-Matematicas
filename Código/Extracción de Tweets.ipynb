{
 "cells": [
  {
   "cell_type": "markdown",
   "metadata": {},
   "source": [
    "# Extracción de Tweets"
   ]
  },
  {
   "cell_type": "markdown",
   "metadata": {},
   "source": [
    "# A - Preparación"
   ]
  },
  {
   "cell_type": "code",
   "execution_count": null,
   "metadata": {},
   "outputs": [],
   "source": [
    "pip install snscrape"
   ]
  },
  {
   "cell_type": "code",
   "execution_count": null,
   "metadata": {},
   "outputs": [],
   "source": [
    "import snscrape.modules.twitter as sntwitter\n",
    "import pandas as pd\n",
    "import datetime\n",
    "import pytz"
   ]
  },
  {
   "cell_type": "markdown",
   "metadata": {},
   "source": [
    "# B - Extracción"
   ]
  },
  {
   "cell_type": "code",
   "execution_count": null,
   "metadata": {},
   "outputs": [],
   "source": [
    "def get_tweets_df(player_list,start_date,end_date,start_day,end_day,lang,num):\n",
    "  tweet_list = []\n",
    "  \n",
    "  for player in player_list:\n",
    "    query = player + ' since:' + start_day + ' until:' + end_day +' lang:' + lang\n",
    "    print(query)\n",
    "    tweet_list_player = []\n",
    "\n",
    "    for i,tweet in enumerate(sntwitter.TwitterSearchScraper(query).get_items()):\n",
    "      if len(tweet_list_player)>=num or tweet.date < start_date:\n",
    "        break\n",
    "      if tweet.date >= start_date and tweet.date <= end_date:\n",
    "        tweet_date = tweet.date.strftime('%Y-%m-%d %H:%M:%S')\n",
    "        tweet_list_player.append([tweet_date, tweet.content, player])\n",
    "\n",
    "    tweet_list.extend(tweet_list_player)\n",
    "\n",
    "  tweets_df = pd.DataFrame(tweet_list, columns=['Date', 'Text', 'Player'])\n",
    "  return tweets_df"
   ]
  },
  {
   "cell_type": "markdown",
   "metadata": {},
   "source": [
    "Aproximadamente el proceso de recoger todos los Tweets tarda 30 minutos por partido"
   ]
  },
  {
   "cell_type": "markdown",
   "metadata": {},
   "source": [
    "## 1 - PSG - Real Madrid (15/02/2022)"
   ]
  },
  {
   "cell_type": "code",
   "execution_count": null,
   "metadata": {},
   "outputs": [],
   "source": [
    "#PSG-MADRID-2022-IDA\n",
    "#especificar la hora inglesa\n",
    "utc=pytz.UTC\n",
    "start_date = utc.localize(datetime.datetime(2022, 2, 15, 20, 0))\n",
    "end_date = utc.localize(datetime.datetime(2022, 2, 15, 22, 0))\n",
    "\n",
    "start_day = '2022-02-15'\n",
    "end_day = '2022-02-16'\n",
    "\n",
    "player_list = ['Donnarumma', 'Hakimi', 'Marquinhos', 'Kimpembe', 'Nuno Mendes', 'Danilo', 'Paredes', 'Verratti', 'Di Maria', 'Messi', 'Mbappe', 'Courtois', 'Carvajal', 'Militao', 'Alaba', 'Mendy', 'Modric', 'Casemiro', 'Kroos', 'Asensio', 'Benzema', 'Vinicius']\n",
    "lang = 'en'\n",
    "num = 100000\n",
    "\n",
    "tweets_df = get_tweets_df(player_list,start_date,end_date,start_day,end_day,lang,num)\n",
    "print(tweets_df)\n",
    "\n",
    "with open('PSG-MADRID-2022-en.json', 'w', encoding='utf-8') as file:\n",
    "    tweets_df.to_json(file, orient = 'records',force_ascii=False)\n",
    "\n",
    "files.download('PSG-MADRID-2022.json')"
   ]
  },
  {
   "cell_type": "markdown",
   "metadata": {},
   "source": [
    "## 2 - PSG - Barcelona (08/03/2017)"
   ]
  },
  {
   "cell_type": "code",
   "execution_count": null,
   "metadata": {},
   "outputs": [],
   "source": [
    "#PSG-BARCELONA-2017-VUELTA\n",
    "#especificar la hora inglesa\n",
    "utc=pytz.UTC\n",
    "start_date = utc.localize(datetime.datetime(2017, 3, 8, 19, 45))\n",
    "end_date = utc.localize(datetime.datetime(2017, 3, 8, 22, 0))\n",
    "\n",
    "start_day = '2017-03-08'\n",
    "end_day = '2017-03-09'\n",
    "\n",
    "player_list = ['Trapp', 'Meunier', 'Marquinhos', 'Thiago Silva', 'Kurzawa', 'Rabiot', 'Matuidi', 'Verratti', 'Moura', 'Draxler', 'Cavani', 'Stegen', 'Mascherano', 'Pique', 'Umtiti', 'Busquets', 'Rakitic', 'Iniesta', 'Messi', 'Rafinha', 'Suarez', 'Neymar']\n",
    "lang = 'en'\n",
    "num = 100000\n",
    "\n",
    "tweets_df = get_tweets_df(player_list,start_date,end_date,start_day,end_day,lang,num)\n",
    "print(tweets_df)\n",
    "\n",
    "with open('BARCELONA-PSG-20172-en.json', 'w', encoding='utf-8') as file:\n",
    "    tweets_df.to_json(file, orient = 'records',force_ascii=False)\n"
   ]
  },
  {
   "cell_type": "markdown",
   "metadata": {},
   "source": [
    "## 3 - Real Madrid - PSG (09/03/2022)"
   ]
  },
  {
   "cell_type": "code",
   "execution_count": null,
   "metadata": {},
   "outputs": [],
   "source": [
    "#MADRD-PSG-2022-VUELTA\n",
    "#especificar la hora inglesa\n",
    "utc=pytz.UTC\n",
    "start_date = utc.localize(datetime.datetime(2022, 3, 9, 20, 0))\n",
    "end_date = utc.localize(datetime.datetime(2022, 3, 9, 22, 15))\n",
    "\n",
    "start_day = '2022-03-9'\n",
    "end_day = '2022-03-10'\n",
    "\n",
    "player_list = ['Donnarumma', 'Hakimi', 'Marquinhos', 'Kimpembe', 'Nuno Mendes', 'Danilo', 'Paredes', 'Verratti', 'Neymar', 'Messi', 'Mbappe', 'di Maria', 'Draxler', 'Gueye', 'Courtois', 'Carvajal', 'Militao', 'Alaba', 'Nacho', 'Modric', 'Valverde', 'Kroos', 'Asensio', 'Benzema', 'Vinicius', 'Lucas Vazquez', 'Rodrygo', 'Camavinga']\n",
    "lang = 'en'\n",
    "num = 100000\n",
    "\n",
    "tweets_df = get_tweets_df(player_list,start_date,end_date,start_day,end_day,lang,num)\n",
    "print(tweets_df)\n",
    "\n",
    "with open('MADRD-PSG-2022-VUELTA-en.json', 'w', encoding='utf-8') as file:\n",
    "    tweets_df.to_json(file, orient = 'records',force_ascii=False)\n"
   ]
  },
  {
   "cell_type": "markdown",
   "metadata": {},
   "source": [
    "## 4 - Manchester City - Liverpool (10/04/2018)"
   ]
  },
  {
   "cell_type": "code",
   "execution_count": null,
   "metadata": {
    "scrolled": true
   },
   "outputs": [],
   "source": [
    "#MCITY-LIVERPOOL-2018-VUELTA\n",
    "#especificar la hora inglesa\n",
    "utc=pytz.UTC\n",
    "start_date = utc.localize(datetime.datetime(2018, 4, 10, 18, 45))\n",
    "end_date = utc.localize(datetime.datetime(2018, 4, 10, 20, 45))\n",
    "\n",
    "start_day = '2018-04-10'\n",
    "end_day = '2018-04-11'\n",
    "\n",
    "player_list = ['Ederson','Walker','Otamendi','Laporte','Fernandinho','De Bruyne','David Silva','Sterling','Bernardo Silva','Gabriel Jesus','Sané','Aguero','Gundogan','Karius','Alexander-Arnold','Lovren','van Dijk','Robertson','Oxlade-Chamberlain','Wijnaldum','Milner','Salah','Firmino','Mane','Clyne','Klavan','Ings']\n",
    "lang = 'en'\n",
    "num = 100000\n",
    "\n",
    "tweets_df = get_tweets_df(player_list,start_date,end_date,start_day,end_day,lang,num)\n",
    "print(tweets_df)\n",
    "\n",
    "with open('CITY-LIVERPOOL-2018-VUELTA-en.json', 'w', encoding='utf-8') as file:\n",
    "    tweets_df.to_json(file, orient = 'records',force_ascii=False)"
   ]
  },
  {
   "cell_type": "markdown",
   "metadata": {},
   "source": [
    "## 5 - Barcelona - Liverpool (01/05/2019)"
   ]
  },
  {
   "cell_type": "code",
   "execution_count": null,
   "metadata": {
    "scrolled": true
   },
   "outputs": [],
   "source": [
    "#BARCELONA-LIVERPOOL-2019-IDA\n",
    "#especificar la hora inglesa\n",
    "utc=pytz.UTC\n",
    "start_date = utc.localize(datetime.datetime(2019, 5, 1, 19, 0))\n",
    "end_date = utc.localize(datetime.datetime(2019, 5, 1, 21, 0))\n",
    "\n",
    "start_day = '2019-05-01'\n",
    "end_day = '2019-05-02'\n",
    "\n",
    "player_list = ['Stegen', 'Roberto', 'Pique', 'Lenglet', 'Alba', 'Rakitic', 'Vidal', 'Busquets', 'Coutinho', 'Suarez', 'Messi', 'Semedo', 'Dembele', 'Aleña', 'Alisson', 'Alexander-Arnold', 'Matip', 'van Dijk', 'Robertson', 'Fabinho', 'Keita', 'Milner', 'Salah', 'Wijnaldum', 'Mane', 'Firmino', 'Origi', 'Henderson']\n",
    "lang = 'en'\n",
    "num = 100000\n",
    "\n",
    "tweets_df = get_tweets_df(player_list,start_date,end_date,start_day,end_day,lang,num)\n",
    "print(tweets_df)\n",
    "\n",
    "with open('BARCELONA-LIVERPOOL-2019-IDA-en.json', 'w', encoding='utf-8') as file:\n",
    "    tweets_df.to_json(file, orient = 'records',force_ascii=False)"
   ]
  }
 ],
 "metadata": {
  "kernelspec": {
   "display_name": "Python 3",
   "language": "python",
   "name": "python3"
  },
  "language_info": {
   "codemirror_mode": {
    "name": "ipython",
    "version": 3
   },
   "file_extension": ".py",
   "mimetype": "text/x-python",
   "name": "python",
   "nbconvert_exporter": "python",
   "pygments_lexer": "ipython3",
   "version": "3.7.4"
  }
 },
 "nbformat": 4,
 "nbformat_minor": 5
}
